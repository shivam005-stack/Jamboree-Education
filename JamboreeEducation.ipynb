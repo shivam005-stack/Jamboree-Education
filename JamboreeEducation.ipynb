{
 "cells": [
  {
   "cell_type": "code",
   "execution_count": 1,
   "id": "36e26885-2e08-403d-805f-a699b15f4e70",
   "metadata": {},
   "outputs": [],
   "source": [
    "import numpy as np\n",
    "import pandas as pd\n",
    "import matplotlib.pyplot as plt\n",
    "import seaborn as sns"
   ]
  },
  {
   "cell_type": "code",
   "execution_count": 2,
   "id": "7a187493-f971-467a-9037-24d92cee6733",
   "metadata": {},
   "outputs": [],
   "source": [
    "df= pd.read_csv('/Applications/archieve/education.csv')"
   ]
  },
  {
   "cell_type": "code",
   "execution_count": 3,
   "id": "7eaf4789-32bc-4e6a-9ff4-344914755214",
   "metadata": {},
   "outputs": [
    {
     "data": {
      "text/html": [
       "<div>\n",
       "<style scoped>\n",
       "    .dataframe tbody tr th:only-of-type {\n",
       "        vertical-align: middle;\n",
       "    }\n",
       "\n",
       "    .dataframe tbody tr th {\n",
       "        vertical-align: top;\n",
       "    }\n",
       "\n",
       "    .dataframe thead th {\n",
       "        text-align: right;\n",
       "    }\n",
       "</style>\n",
       "<table border=\"1\" class=\"dataframe\">\n",
       "  <thead>\n",
       "    <tr style=\"text-align: right;\">\n",
       "      <th></th>\n",
       "      <th>Serial No.</th>\n",
       "      <th>GRE Score</th>\n",
       "      <th>TOEFL Score</th>\n",
       "      <th>University Rating</th>\n",
       "      <th>SOP</th>\n",
       "      <th>LOR</th>\n",
       "      <th>CGPA</th>\n",
       "      <th>Research</th>\n",
       "      <th>Chance of Admit</th>\n",
       "    </tr>\n",
       "  </thead>\n",
       "  <tbody>\n",
       "    <tr>\n",
       "      <th>0</th>\n",
       "      <td>1</td>\n",
       "      <td>337</td>\n",
       "      <td>118</td>\n",
       "      <td>4</td>\n",
       "      <td>4.5</td>\n",
       "      <td>4.5</td>\n",
       "      <td>9.65</td>\n",
       "      <td>1</td>\n",
       "      <td>0.92</td>\n",
       "    </tr>\n",
       "    <tr>\n",
       "      <th>1</th>\n",
       "      <td>2</td>\n",
       "      <td>324</td>\n",
       "      <td>107</td>\n",
       "      <td>4</td>\n",
       "      <td>4.0</td>\n",
       "      <td>4.5</td>\n",
       "      <td>8.87</td>\n",
       "      <td>1</td>\n",
       "      <td>0.76</td>\n",
       "    </tr>\n",
       "    <tr>\n",
       "      <th>2</th>\n",
       "      <td>3</td>\n",
       "      <td>316</td>\n",
       "      <td>104</td>\n",
       "      <td>3</td>\n",
       "      <td>3.0</td>\n",
       "      <td>3.5</td>\n",
       "      <td>8.00</td>\n",
       "      <td>1</td>\n",
       "      <td>0.72</td>\n",
       "    </tr>\n",
       "    <tr>\n",
       "      <th>3</th>\n",
       "      <td>4</td>\n",
       "      <td>322</td>\n",
       "      <td>110</td>\n",
       "      <td>3</td>\n",
       "      <td>3.5</td>\n",
       "      <td>2.5</td>\n",
       "      <td>8.67</td>\n",
       "      <td>1</td>\n",
       "      <td>0.80</td>\n",
       "    </tr>\n",
       "    <tr>\n",
       "      <th>4</th>\n",
       "      <td>5</td>\n",
       "      <td>314</td>\n",
       "      <td>103</td>\n",
       "      <td>2</td>\n",
       "      <td>2.0</td>\n",
       "      <td>3.0</td>\n",
       "      <td>8.21</td>\n",
       "      <td>0</td>\n",
       "      <td>0.65</td>\n",
       "    </tr>\n",
       "  </tbody>\n",
       "</table>\n",
       "</div>"
      ],
      "text/plain": [
       "   Serial No.  GRE Score  TOEFL Score  University Rating  SOP  LOR   CGPA  \\\n",
       "0           1        337          118                  4  4.5   4.5  9.65   \n",
       "1           2        324          107                  4  4.0   4.5  8.87   \n",
       "2           3        316          104                  3  3.0   3.5  8.00   \n",
       "3           4        322          110                  3  3.5   2.5  8.67   \n",
       "4           5        314          103                  2  2.0   3.0  8.21   \n",
       "\n",
       "   Research  Chance of Admit   \n",
       "0         1              0.92  \n",
       "1         1              0.76  \n",
       "2         1              0.72  \n",
       "3         1              0.80  \n",
       "4         0              0.65  "
      ]
     },
     "execution_count": 3,
     "metadata": {},
     "output_type": "execute_result"
    }
   ],
   "source": [
    "df.head()"
   ]
  },
  {
   "cell_type": "code",
   "execution_count": 4,
   "id": "024a6c9d-4eca-464d-b965-8c0e6309155e",
   "metadata": {},
   "outputs": [
    {
     "name": "stdout",
     "output_type": "stream",
     "text": [
      "No. Of Rows:  500\n",
      "No. Of Columns:  9\n"
     ]
    }
   ],
   "source": [
    "print(\"No. Of Rows: \", df.shape[0])\n",
    "print(\"No. Of Columns: \", df.shape[1])"
   ]
  },
  {
   "cell_type": "code",
   "execution_count": 5,
   "id": "18054d79-6802-4ce4-9060-76c68ffed394",
   "metadata": {},
   "outputs": [
    {
     "data": {
      "text/plain": [
       "Serial No.             int64\n",
       "GRE Score              int64\n",
       "TOEFL Score            int64\n",
       "University Rating      int64\n",
       "SOP                  float64\n",
       "LOR                  float64\n",
       "CGPA                 float64\n",
       "Research               int64\n",
       "Chance of Admit      float64\n",
       "dtype: object"
      ]
     },
     "execution_count": 5,
     "metadata": {},
     "output_type": "execute_result"
    }
   ],
   "source": [
    "df.dtypes"
   ]
  },
  {
   "cell_type": "code",
   "execution_count": 6,
   "id": "6012c8b7-ae5b-4e42-ae1a-3a9b0ef2ebea",
   "metadata": {},
   "outputs": [
    {
     "data": {
      "text/plain": [
       "Serial No.           0\n",
       "GRE Score            0\n",
       "TOEFL Score          0\n",
       "University Rating    0\n",
       "SOP                  0\n",
       "LOR                  0\n",
       "CGPA                 0\n",
       "Research             0\n",
       "Chance of Admit      0\n",
       "dtype: int64"
      ]
     },
     "execution_count": 6,
     "metadata": {},
     "output_type": "execute_result"
    }
   ],
   "source": [
    "df.isnull().sum()"
   ]
  },
  {
   "cell_type": "code",
   "execution_count": 7,
   "id": "a130faec-a12f-4b3a-815c-7a5d8f600167",
   "metadata": {},
   "outputs": [
    {
     "name": "stdout",
     "output_type": "stream",
     "text": [
      "<class 'pandas.core.frame.DataFrame'>\n",
      "RangeIndex: 500 entries, 0 to 499\n",
      "Data columns (total 9 columns):\n",
      " #   Column             Non-Null Count  Dtype  \n",
      "---  ------             --------------  -----  \n",
      " 0   Serial No.         500 non-null    int64  \n",
      " 1   GRE Score          500 non-null    int64  \n",
      " 2   TOEFL Score        500 non-null    int64  \n",
      " 3   University Rating  500 non-null    int64  \n",
      " 4   SOP                500 non-null    float64\n",
      " 5   LOR                500 non-null    float64\n",
      " 6   CGPA               500 non-null    float64\n",
      " 7   Research           500 non-null    int64  \n",
      " 8   Chance of Admit    500 non-null    float64\n",
      "dtypes: float64(4), int64(5)\n",
      "memory usage: 35.3 KB\n"
     ]
    }
   ],
   "source": [
    "df.info()"
   ]
  },
  {
   "cell_type": "code",
   "execution_count": 8,
   "id": "e10f50b5-c328-4aa2-9259-80e5625edf72",
   "metadata": {},
   "outputs": [
    {
     "data": {
      "text/html": [
       "<div>\n",
       "<style scoped>\n",
       "    .dataframe tbody tr th:only-of-type {\n",
       "        vertical-align: middle;\n",
       "    }\n",
       "\n",
       "    .dataframe tbody tr th {\n",
       "        vertical-align: top;\n",
       "    }\n",
       "\n",
       "    .dataframe thead th {\n",
       "        text-align: right;\n",
       "    }\n",
       "</style>\n",
       "<table border=\"1\" class=\"dataframe\">\n",
       "  <thead>\n",
       "    <tr style=\"text-align: right;\">\n",
       "      <th></th>\n",
       "      <th>Serial No.</th>\n",
       "      <th>GRE Score</th>\n",
       "      <th>TOEFL Score</th>\n",
       "      <th>University Rating</th>\n",
       "      <th>SOP</th>\n",
       "      <th>LOR</th>\n",
       "      <th>CGPA</th>\n",
       "      <th>Research</th>\n",
       "      <th>Chance of Admit</th>\n",
       "    </tr>\n",
       "  </thead>\n",
       "  <tbody>\n",
       "    <tr>\n",
       "      <th>count</th>\n",
       "      <td>500.000000</td>\n",
       "      <td>500.000000</td>\n",
       "      <td>500.000000</td>\n",
       "      <td>500.000000</td>\n",
       "      <td>500.000000</td>\n",
       "      <td>500.00000</td>\n",
       "      <td>500.000000</td>\n",
       "      <td>500.000000</td>\n",
       "      <td>500.00000</td>\n",
       "    </tr>\n",
       "    <tr>\n",
       "      <th>mean</th>\n",
       "      <td>250.500000</td>\n",
       "      <td>316.472000</td>\n",
       "      <td>107.192000</td>\n",
       "      <td>3.114000</td>\n",
       "      <td>3.374000</td>\n",
       "      <td>3.48400</td>\n",
       "      <td>8.576440</td>\n",
       "      <td>0.560000</td>\n",
       "      <td>0.72174</td>\n",
       "    </tr>\n",
       "    <tr>\n",
       "      <th>std</th>\n",
       "      <td>144.481833</td>\n",
       "      <td>11.295148</td>\n",
       "      <td>6.081868</td>\n",
       "      <td>1.143512</td>\n",
       "      <td>0.991004</td>\n",
       "      <td>0.92545</td>\n",
       "      <td>0.604813</td>\n",
       "      <td>0.496884</td>\n",
       "      <td>0.14114</td>\n",
       "    </tr>\n",
       "    <tr>\n",
       "      <th>min</th>\n",
       "      <td>1.000000</td>\n",
       "      <td>290.000000</td>\n",
       "      <td>92.000000</td>\n",
       "      <td>1.000000</td>\n",
       "      <td>1.000000</td>\n",
       "      <td>1.00000</td>\n",
       "      <td>6.800000</td>\n",
       "      <td>0.000000</td>\n",
       "      <td>0.34000</td>\n",
       "    </tr>\n",
       "    <tr>\n",
       "      <th>25%</th>\n",
       "      <td>125.750000</td>\n",
       "      <td>308.000000</td>\n",
       "      <td>103.000000</td>\n",
       "      <td>2.000000</td>\n",
       "      <td>2.500000</td>\n",
       "      <td>3.00000</td>\n",
       "      <td>8.127500</td>\n",
       "      <td>0.000000</td>\n",
       "      <td>0.63000</td>\n",
       "    </tr>\n",
       "    <tr>\n",
       "      <th>50%</th>\n",
       "      <td>250.500000</td>\n",
       "      <td>317.000000</td>\n",
       "      <td>107.000000</td>\n",
       "      <td>3.000000</td>\n",
       "      <td>3.500000</td>\n",
       "      <td>3.50000</td>\n",
       "      <td>8.560000</td>\n",
       "      <td>1.000000</td>\n",
       "      <td>0.72000</td>\n",
       "    </tr>\n",
       "    <tr>\n",
       "      <th>75%</th>\n",
       "      <td>375.250000</td>\n",
       "      <td>325.000000</td>\n",
       "      <td>112.000000</td>\n",
       "      <td>4.000000</td>\n",
       "      <td>4.000000</td>\n",
       "      <td>4.00000</td>\n",
       "      <td>9.040000</td>\n",
       "      <td>1.000000</td>\n",
       "      <td>0.82000</td>\n",
       "    </tr>\n",
       "    <tr>\n",
       "      <th>max</th>\n",
       "      <td>500.000000</td>\n",
       "      <td>340.000000</td>\n",
       "      <td>120.000000</td>\n",
       "      <td>5.000000</td>\n",
       "      <td>5.000000</td>\n",
       "      <td>5.00000</td>\n",
       "      <td>9.920000</td>\n",
       "      <td>1.000000</td>\n",
       "      <td>0.97000</td>\n",
       "    </tr>\n",
       "  </tbody>\n",
       "</table>\n",
       "</div>"
      ],
      "text/plain": [
       "       Serial No.   GRE Score  TOEFL Score  University Rating         SOP  \\\n",
       "count  500.000000  500.000000   500.000000         500.000000  500.000000   \n",
       "mean   250.500000  316.472000   107.192000           3.114000    3.374000   \n",
       "std    144.481833   11.295148     6.081868           1.143512    0.991004   \n",
       "min      1.000000  290.000000    92.000000           1.000000    1.000000   \n",
       "25%    125.750000  308.000000   103.000000           2.000000    2.500000   \n",
       "50%    250.500000  317.000000   107.000000           3.000000    3.500000   \n",
       "75%    375.250000  325.000000   112.000000           4.000000    4.000000   \n",
       "max    500.000000  340.000000   120.000000           5.000000    5.000000   \n",
       "\n",
       "            LOR         CGPA    Research  Chance of Admit   \n",
       "count  500.00000  500.000000  500.000000         500.00000  \n",
       "mean     3.48400    8.576440    0.560000           0.72174  \n",
       "std      0.92545    0.604813    0.496884           0.14114  \n",
       "min      1.00000    6.800000    0.000000           0.34000  \n",
       "25%      3.00000    8.127500    0.000000           0.63000  \n",
       "50%      3.50000    8.560000    1.000000           0.72000  \n",
       "75%      4.00000    9.040000    1.000000           0.82000  \n",
       "max      5.00000    9.920000    1.000000           0.97000  "
      ]
     },
     "execution_count": 8,
     "metadata": {},
     "output_type": "execute_result"
    }
   ],
   "source": [
    "df.describe()"
   ]
  },
  {
   "cell_type": "code",
   "execution_count": 9,
   "id": "4270bd61-6f95-4f51-8d86-9a89993d428e",
   "metadata": {},
   "outputs": [
    {
     "data": {
      "image/png": "[encoded data removed]",
      "text/plain": [
       "<Figure size 504x432 with 1 Axes>"
      ]
     },
     "metadata": {
      "needs_background": "light"
     },
     "output_type": "display_data"
    }
   ],
   "source": [
    "plt.figure(figsize=(7,6))\n",
    "sns.barplot(x=df['TOEFL Score'],y=df['University Rating'],data=df)\n",
    "plt.show()"
   ]
  },
  {
   "cell_type": "code",
   "execution_count": 10,
   "id": "9a35458b-06c7-442e-90c6-300dc679f8c9",
   "metadata": {},
   "outputs": [
    {
     "data": {
      "image/png": "[encoded data removed]",
      "text/plain": [
       "<Figure size 432x288 with 1 Axes>"
      ]
     },
     "metadata": {
      "needs_background": "light"
     },
     "output_type": "display_data"
    }
   ],
   "source": [
    "sns.countplot(x='University Rating',data=df)\n",
    "plt.show()"
   ]
  },
  {
   "cell_type": "code",
   "execution_count": 11,
   "id": "423f0852-0809-47ac-bf9a-c00ddcd5cffa",
   "metadata": {},
   "outputs": [
    {
     "data": {
      "image/png": "[encoded data removed]",
      "text/plain": [
       "<Figure size 432x288 with 1 Axes>"
      ]
     },
     "metadata": {
      "needs_background": "light"
     },
     "output_type": "display_data"
    }
   ],
   "source": [
    "sns.barplot(x='Research',y='University Rating',data=df)\n",
    "plt.show()"
   ]
  },
  {
   "cell_type": "code",
   "execution_count": 12,
   "id": "4863fb90-93e5-48fd-981d-1686a38eb359",
   "metadata": {},
   "outputs": [
    {
     "data": {
      "image/png": "[encoded data removed]",
      "text/plain": [
       "<Figure size 432x288 with 1 Axes>"
      ]
     },
     "metadata": {
      "needs_background": "light"
     },
     "output_type": "display_data"
    }
   ],
   "source": [
    "sns.barplot(data=df,x='SOP',y='CGPA')\n",
    "plt.show()"
   ]
  },
  {
   "cell_type": "code",
   "execution_count": 13,
   "id": "722c6ccb-35e1-4e48-93b6-b12ff3efded6",
   "metadata": {},
   "outputs": [
    {
     "data": {
      "image/png": "[encoded data removed]",
      "text/plain": [
       "<Figure size 432x288 with 1 Axes>"
      ]
     },
     "metadata": {
      "needs_background": "light"
     },
     "output_type": "display_data"
    }
   ],
   "source": [
    "sns.histplot(df['SOP'])\n",
    "plt.show()"
   ]
  },
  {
   "cell_type": "code",
   "execution_count": 14,
   "id": "7b16ae3b-d6bf-41c0-b9ed-2ac7da59afff",
   "metadata": {},
   "outputs": [
    {
     "data": {
      "image/png": "[encoded data removed]",
      "text/plain": [
       "<Figure size 432x288 with 1 Axes>"
      ]
     },
     "metadata": {
      "needs_background": "light"
     },
     "output_type": "display_data"
    }
   ],
   "source": [
    "sns.histplot(df['University Rating'])\n",
    "plt.show()"
   ]
  },
  {
   "cell_type": "code",
   "execution_count": 15,
   "id": "b03b76bf-a580-4e9d-b109-3a3bb639a0b3",
   "metadata": {},
   "outputs": [
    {
     "data": {
      "image/png": "[encoded data removed]",
      "text/plain": [
       "<Figure size 720x432 with 2 Axes>"
      ]
     },
     "metadata": {
      "needs_background": "light"
     },
     "output_type": "display_data"
    }
   ],
   "source": [
    "plt.figure(figsize=(10,6))\n",
    "sns.heatmap(df.corr(), annot=True)\n",
    "plt.show()"
   ]
  },
  {
   "cell_type": "code",
   "execution_count": 16,
   "id": "4d763d03-0e41-4940-975d-18130397cb9a",
   "metadata": {},
   "outputs": [
    {
     "data": {
      "text/plain": [
       "Serial No.           0.0\n",
       "GRE Score            0.0\n",
       "TOEFL Score          0.0\n",
       "University Rating    0.0\n",
       "SOP                  0.0\n",
       "LOR                  0.0\n",
       "CGPA                 0.0\n",
       "Research             0.0\n",
       "Chance of Admit      0.0\n",
       "dtype: float64"
      ]
     },
     "execution_count": 16,
     "metadata": {},
     "output_type": "execute_result"
    }
   ],
   "source": [
    "data_missing= (df.isna().sum()/df.shape[0])*100\n",
    "data_missing\n",
    "data_missing.sort_values(ascending=False)"
   ]
  },
  {
   "cell_type": "code",
   "execution_count": 17,
   "id": "f88d26e0-4285-43b1-ae5e-379be234dfb5",
   "metadata": {},
   "outputs": [],
   "source": [
    "df['University Rating'] = df['University Rating'].fillna(df['University Rating'].mean())\n",
    "df['Chance of Admit'] = df['GRE Score'].fillna(df['GRE Score'].mean())"
   ]
  },
  {
   "cell_type": "code",
   "execution_count": 18,
   "id": "395e9a87-da7b-4400-b3d8-5d60a0a95cee",
   "metadata": {},
   "outputs": [],
   "source": [
    "df['Research'] = df['Research'].fillna(df['Research'].mode()[0])"
   ]
  },
  {
   "cell_type": "code",
   "execution_count": 19,
   "id": "7607b64b-18d7-44b0-8614-5703cd9218e9",
   "metadata": {},
   "outputs": [],
   "source": [
    "df['GRE Score']= df['GRE Score'].fillna(df['GRE Score'].median())"
   ]
  },
  {
   "cell_type": "markdown",
   "id": "fe418b08-02ac-47c8-8044-10e893d6dcda",
   "metadata": {},
   "source": [
    "# Detecting Outliers"
   ]
  },
  {
   "cell_type": "code",
   "execution_count": 20,
   "id": "13e07412-9f88-4bc4-90d0-aac63d79cb9f",
   "metadata": {},
   "outputs": [
    {
     "data": {
      "image/png": "[encoded data removed]",
      "text/plain": [
       "<Figure size 432x288 with 1 Axes>"
      ]
     },
     "metadata": {
      "needs_background": "light"
     },
     "output_type": "display_data"
    }
   ],
   "source": [
    "sns.boxplot(x=df['Research'],data=df)\n",
    "plt.show()"
   ]
  },
  {
   "cell_type": "code",
   "execution_count": 21,
   "id": "4e3f6882-381a-434a-8d72-b1606b722255",
   "metadata": {},
   "outputs": [
    {
     "data": {
      "image/png": "[encoded data removed]",
      "text/plain": [
       "<Figure size 432x288 with 1 Axes>"
      ]
     },
     "metadata": {
      "needs_background": "light"
     },
     "output_type": "display_data"
    }
   ],
   "source": [
    "sns.boxplot(x='Chance of Admit',data=df)\n",
    "plt.show()"
   ]
  },
  {
   "cell_type": "code",
   "execution_count": 22,
   "id": "25d229a3-3674-4438-9106-7a5f970515f2",
   "metadata": {},
   "outputs": [
    {
     "data": {
      "image/png": "[encoded data removed]",
      "text/plain": [
       "<Figure size 432x288 with 1 Axes>"
      ]
     },
     "metadata": {
      "needs_background": "light"
     },
     "output_type": "display_data"
    }
   ],
   "source": [
    "sns.boxplot(x='TOEFL Score',data=df)\n",
    "plt.show()"
   ]
  },
  {
   "cell_type": "markdown",
   "id": "efc5eb87-72dd-46c8-b60a-0eba531a262b",
   "metadata": {},
   "source": [
    "# Detecting outliers using the Z-scores"
   ]
  },
  {
   "cell_type": "code",
   "execution_count": 23,
   "id": "0de22d4f-e761-4ac1-a040-276f29e96975",
   "metadata": {},
   "outputs": [],
   "source": [
    "outliers = []\n",
    "def detect_outliers_zscore(data):\n",
    "    thres = 3\n",
    "    mean = np.mean(data)\n",
    "    std = np.std(data)\n",
    "    # print(mean, std)\n",
    "    for i in data:\n",
    "        z_score = (i-mean)/std\n",
    "        if (np.abs(z_score) > thres):\n",
    "            outliers.append(i)\n",
    "    return outliers"
   ]
  },
  {
   "cell_type": "markdown",
   "id": "1e327b2f-c60b-433f-bc5d-587f2a927315",
   "metadata": {},
   "source": [
    "# Detecting outliers using the Inter Quantile Range(IQR)"
   ]
  },
  {
   "cell_type": "code",
   "execution_count": 24,
   "id": "0fd86600-424e-4a68-abab-ce7ca5a2f4fe",
   "metadata": {},
   "outputs": [],
   "source": [
    "outliers = []\n",
    "def detect_outliers_iqr(data):\n",
    "    data = sorted(data)\n",
    "    q1 = np.percentile(data, 25)\n",
    "    q3 = np.percentile(data, 75)\n",
    "    # print(q1, q3)\n",
    "    IQR = q3-q1\n",
    "    lwr_bound = q1-(1.5*IQR)\n",
    "    upr_bound = q3+(1.5*IQR)\n",
    "    # print(lwr_bound, upr_bound)\n",
    "    for i in data: \n",
    "        if (i<lwr_bound or i>upr_bound):\n",
    "            outliers.append(i)\n",
    "    return outliers\n"
   ]
  },
  {
   "cell_type": "markdown",
   "id": "429cc789-8f47-4ac3-921a-3e4f907c5bb0",
   "metadata": {},
   "source": [
    "# Feature Engineering"
   ]
  },
  {
   "cell_type": "code",
   "execution_count": 25,
   "id": "f47a6a9d-cace-469a-ba63-5d498f297816",
   "metadata": {},
   "outputs": [],
   "source": [
    "X= df.iloc[:,0:4].values\n",
    "y=df.iloc[:,-4].values"
   ]
  },
  {
   "cell_type": "code",
   "execution_count": 26,
   "id": "01e638b0-be99-4451-b0b2-e4658da42de6",
   "metadata": {},
   "outputs": [
    {
     "data": {
      "text/plain": [
       "((400, 4), (100, 4))"
      ]
     },
     "execution_count": 26,
     "metadata": {},
     "output_type": "execute_result"
    }
   ],
   "source": [
    "from sklearn.model_selection import train_test_split\n",
    "\n",
    "X_train,X_test,y_train,y_test= train_test_split(X,y,\n",
    "                                               test_size=0.2,\n",
    "                                               random_state=2)\n",
    "X_train.shape,X_test.shape"
   ]
  },
  {
   "cell_type": "code",
   "execution_count": 27,
   "id": "c190d101-3463-43b0-b7ec-397dfe20c7e4",
   "metadata": {},
   "outputs": [
    {
     "data": {
      "text/html": [
       "<div>\n",
       "<style scoped>\n",
       "    .dataframe tbody tr th:only-of-type {\n",
       "        vertical-align: middle;\n",
       "    }\n",
       "\n",
       "    .dataframe tbody tr th {\n",
       "        vertical-align: top;\n",
       "    }\n",
       "\n",
       "    .dataframe thead th {\n",
       "        text-align: right;\n",
       "    }\n",
       "</style>\n",
       "<table border=\"1\" class=\"dataframe\">\n",
       "  <thead>\n",
       "    <tr style=\"text-align: right;\">\n",
       "      <th></th>\n",
       "      <th>Serial No.</th>\n",
       "      <th>GRE Score</th>\n",
       "      <th>TOEFL Score</th>\n",
       "      <th>University Rating</th>\n",
       "      <th>SOP</th>\n",
       "      <th>LOR</th>\n",
       "      <th>CGPA</th>\n",
       "      <th>Research</th>\n",
       "      <th>Chance of Admit</th>\n",
       "      <th>Chance of Admit</th>\n",
       "    </tr>\n",
       "  </thead>\n",
       "  <tbody>\n",
       "    <tr>\n",
       "      <th>0</th>\n",
       "      <td>-1.728590</td>\n",
       "      <td>1.819238</td>\n",
       "      <td>1.778865</td>\n",
       "      <td>0.775582</td>\n",
       "      <td>1.137360</td>\n",
       "      <td>1.098944</td>\n",
       "      <td>1.776806</td>\n",
       "      <td>0.886405</td>\n",
       "      <td>1.406107</td>\n",
       "      <td>1.819238</td>\n",
       "    </tr>\n",
       "    <tr>\n",
       "      <th>1</th>\n",
       "      <td>-1.721662</td>\n",
       "      <td>0.667148</td>\n",
       "      <td>-0.031601</td>\n",
       "      <td>0.775582</td>\n",
       "      <td>0.632315</td>\n",
       "      <td>1.098944</td>\n",
       "      <td>0.485859</td>\n",
       "      <td>0.886405</td>\n",
       "      <td>0.271349</td>\n",
       "      <td>0.667148</td>\n",
       "    </tr>\n",
       "    <tr>\n",
       "      <th>2</th>\n",
       "      <td>-1.714734</td>\n",
       "      <td>-0.041830</td>\n",
       "      <td>-0.525364</td>\n",
       "      <td>-0.099793</td>\n",
       "      <td>-0.377773</td>\n",
       "      <td>0.017306</td>\n",
       "      <td>-0.954043</td>\n",
       "      <td>0.886405</td>\n",
       "      <td>-0.012340</td>\n",
       "      <td>-0.041830</td>\n",
       "    </tr>\n",
       "    <tr>\n",
       "      <th>3</th>\n",
       "      <td>-1.707806</td>\n",
       "      <td>0.489904</td>\n",
       "      <td>0.462163</td>\n",
       "      <td>-0.099793</td>\n",
       "      <td>0.127271</td>\n",
       "      <td>-1.064332</td>\n",
       "      <td>0.154847</td>\n",
       "      <td>0.886405</td>\n",
       "      <td>0.555039</td>\n",
       "      <td>0.489904</td>\n",
       "    </tr>\n",
       "    <tr>\n",
       "      <th>4</th>\n",
       "      <td>-1.700877</td>\n",
       "      <td>-0.219074</td>\n",
       "      <td>-0.689952</td>\n",
       "      <td>-0.975168</td>\n",
       "      <td>-1.387862</td>\n",
       "      <td>-0.523513</td>\n",
       "      <td>-0.606480</td>\n",
       "      <td>-1.128152</td>\n",
       "      <td>-0.508797</td>\n",
       "      <td>-0.219074</td>\n",
       "    </tr>\n",
       "  </tbody>\n",
       "</table>\n",
       "</div>"
      ],
      "text/plain": [
       "   Serial No.  GRE Score  TOEFL Score  University Rating       SOP      LOR   \\\n",
       "0   -1.728590   1.819238     1.778865           0.775582  1.137360  1.098944   \n",
       "1   -1.721662   0.667148    -0.031601           0.775582  0.632315  1.098944   \n",
       "2   -1.714734  -0.041830    -0.525364          -0.099793 -0.377773  0.017306   \n",
       "3   -1.707806   0.489904     0.462163          -0.099793  0.127271 -1.064332   \n",
       "4   -1.700877  -0.219074    -0.689952          -0.975168 -1.387862 -0.523513   \n",
       "\n",
       "       CGPA  Research  Chance of Admit   Chance of Admit  \n",
       "0  1.776806  0.886405          1.406107         1.819238  \n",
       "1  0.485859  0.886405          0.271349         0.667148  \n",
       "2 -0.954043  0.886405         -0.012340        -0.041830  \n",
       "3  0.154847  0.886405          0.555039         0.489904  \n",
       "4 -0.606480 -1.128152         -0.508797        -0.219074  "
      ]
     },
     "execution_count": 27,
     "metadata": {},
     "output_type": "execute_result"
    }
   ],
   "source": [
    "from sklearn.preprocessing import StandardScaler\n",
    "\n",
    "scaler= StandardScaler()\n",
    "df= pd.DataFrame(scaler.fit_transform(df),columns=df.columns)\n",
    "\n",
    "df.head()"
   ]
  },
  {
   "cell_type": "code",
   "execution_count": 28,
   "id": "42bee3fb-a1ba-4689-8f66-cfa7cf85cf16",
   "metadata": {},
   "outputs": [
    {
     "data": {
      "text/html": [
       "<div>\n",
       "<style scoped>\n",
       "    .dataframe tbody tr th:only-of-type {\n",
       "        vertical-align: middle;\n",
       "    }\n",
       "\n",
       "    .dataframe tbody tr th {\n",
       "        vertical-align: top;\n",
       "    }\n",
       "\n",
       "    .dataframe thead th {\n",
       "        text-align: right;\n",
       "    }\n",
       "</style>\n",
       "<table border=\"1\" class=\"dataframe\">\n",
       "  <thead>\n",
       "    <tr style=\"text-align: right;\">\n",
       "      <th></th>\n",
       "      <th>Serial No.</th>\n",
       "      <th>GRE Score</th>\n",
       "      <th>TOEFL Score</th>\n",
       "      <th>University Rating</th>\n",
       "      <th>SOP</th>\n",
       "      <th>LOR</th>\n",
       "      <th>CGPA</th>\n",
       "      <th>Research</th>\n",
       "      <th>Chance of Admit</th>\n",
       "      <th>Chance of Admit</th>\n",
       "    </tr>\n",
       "  </thead>\n",
       "  <tbody>\n",
       "    <tr>\n",
       "      <th>0</th>\n",
       "      <td>-1.728590</td>\n",
       "      <td>1.819238</td>\n",
       "      <td>1.778865</td>\n",
       "      <td>0.775582</td>\n",
       "      <td>1.137360</td>\n",
       "      <td>1.098944</td>\n",
       "      <td>1.776806</td>\n",
       "      <td>0.886405</td>\n",
       "      <td>1.406107</td>\n",
       "      <td>1.819238</td>\n",
       "    </tr>\n",
       "    <tr>\n",
       "      <th>1</th>\n",
       "      <td>-1.721662</td>\n",
       "      <td>0.667148</td>\n",
       "      <td>-0.031601</td>\n",
       "      <td>0.775582</td>\n",
       "      <td>0.632315</td>\n",
       "      <td>1.098944</td>\n",
       "      <td>0.485859</td>\n",
       "      <td>0.886405</td>\n",
       "      <td>0.271349</td>\n",
       "      <td>0.667148</td>\n",
       "    </tr>\n",
       "    <tr>\n",
       "      <th>2</th>\n",
       "      <td>-1.714734</td>\n",
       "      <td>-0.041830</td>\n",
       "      <td>-0.525364</td>\n",
       "      <td>-0.099793</td>\n",
       "      <td>-0.377773</td>\n",
       "      <td>0.017306</td>\n",
       "      <td>-0.954043</td>\n",
       "      <td>0.886405</td>\n",
       "      <td>-0.012340</td>\n",
       "      <td>-0.041830</td>\n",
       "    </tr>\n",
       "    <tr>\n",
       "      <th>3</th>\n",
       "      <td>-1.707806</td>\n",
       "      <td>0.489904</td>\n",
       "      <td>0.462163</td>\n",
       "      <td>-0.099793</td>\n",
       "      <td>0.127271</td>\n",
       "      <td>-1.064332</td>\n",
       "      <td>0.154847</td>\n",
       "      <td>0.886405</td>\n",
       "      <td>0.555039</td>\n",
       "      <td>0.489904</td>\n",
       "    </tr>\n",
       "    <tr>\n",
       "      <th>4</th>\n",
       "      <td>-1.700877</td>\n",
       "      <td>-0.219074</td>\n",
       "      <td>-0.689952</td>\n",
       "      <td>-0.975168</td>\n",
       "      <td>-1.387862</td>\n",
       "      <td>-0.523513</td>\n",
       "      <td>-0.606480</td>\n",
       "      <td>-1.128152</td>\n",
       "      <td>-0.508797</td>\n",
       "      <td>-0.219074</td>\n",
       "    </tr>\n",
       "  </tbody>\n",
       "</table>\n",
       "</div>"
      ],
      "text/plain": [
       "   Serial No.  GRE Score  TOEFL Score  University Rating       SOP      LOR   \\\n",
       "0   -1.728590   1.819238     1.778865           0.775582  1.137360  1.098944   \n",
       "1   -1.721662   0.667148    -0.031601           0.775582  0.632315  1.098944   \n",
       "2   -1.714734  -0.041830    -0.525364          -0.099793 -0.377773  0.017306   \n",
       "3   -1.707806   0.489904     0.462163          -0.099793  0.127271 -1.064332   \n",
       "4   -1.700877  -0.219074    -0.689952          -0.975168 -1.387862 -0.523513   \n",
       "\n",
       "       CGPA  Research  Chance of Admit   Chance of Admit  \n",
       "0  1.776806  0.886405          1.406107         1.819238  \n",
       "1  0.485859  0.886405          0.271349         0.667148  \n",
       "2 -0.954043  0.886405         -0.012340        -0.041830  \n",
       "3  0.154847  0.886405          0.555039         0.489904  \n",
       "4 -0.606480 -1.128152         -0.508797        -0.219074  "
      ]
     },
     "execution_count": 28,
     "metadata": {},
     "output_type": "execute_result"
    }
   ],
   "source": [
    "from sklearn.preprocessing import MinMaxScaler\n",
    "\n",
    "scale= MinMaxScaler()\n",
    "df= pd.DataFrame(scaler.fit_transform(df),columns=df.columns)\n",
    "\n",
    "df.head()"
   ]
  },
  {
   "cell_type": "markdown",
   "id": "5d140cef-2146-494f-b77d-ff79fad15a27",
   "metadata": {},
   "source": [
    "# Model Building"
   ]
  },
  {
   "cell_type": "code",
   "execution_count": 29,
   "id": "ea23adb5-69f9-4d0e-a488-b86a5b45f712",
   "metadata": {},
   "outputs": [
    {
     "data": {
      "text/plain": [
       "((350, 4), (150, 4))"
      ]
     },
     "execution_count": 29,
     "metadata": {},
     "output_type": "execute_result"
    }
   ],
   "source": [
    "from sklearn.model_selection import train_test_split\n",
    "\n",
    "X_train,X_test,y_train,y_test= train_test_split(X,y,\n",
    "                                               test_size=0.3,\n",
    "                                               random_state=3)\n",
    "X_train.shape,X_test.shape"
   ]
  },
  {
   "cell_type": "code",
   "execution_count": 30,
   "id": "3873c904-6c70-4c83-ab00-111a82faf4bc",
   "metadata": {},
   "outputs": [
    {
     "data": {
      "text/plain": [
       "LinearRegression()"
      ]
     },
     "execution_count": 30,
     "metadata": {},
     "output_type": "execute_result"
    }
   ],
   "source": [
    "from sklearn.linear_model import LinearRegression\n",
    "\n",
    "model= LinearRegression()\n",
    "\n",
    "model.fit(X_train,y_train)"
   ]
  },
  {
   "cell_type": "code",
   "execution_count": 31,
   "id": "70363936-7f1f-41a6-9d7c-256b6a796d03",
   "metadata": {},
   "outputs": [],
   "source": [
    "predict=model.predict(X_test)"
   ]
  },
  {
   "cell_type": "code",
   "execution_count": 32,
   "id": "c5ad8619-9451-4360-b73d-cb6610961f18",
   "metadata": {},
   "outputs": [
    {
     "data": {
      "text/plain": [
       "array([9.53345608, 7.90366573, 7.80498377, 7.69066219, 9.04330948])"
      ]
     },
     "execution_count": 32,
     "metadata": {},
     "output_type": "execute_result"
    }
   ],
   "source": [
    "predict[:5]"
   ]
  },
  {
   "cell_type": "code",
   "execution_count": 33,
   "id": "770db220-c645-4091-8cbc-ed517c800976",
   "metadata": {},
   "outputs": [
    {
     "data": {
      "text/plain": [
       "0.7689434507787709"
      ]
     },
     "execution_count": 33,
     "metadata": {},
     "output_type": "execute_result"
    }
   ],
   "source": [
    "model.score(X_test,y_test)"
   ]
  },
  {
   "cell_type": "code",
   "execution_count": 34,
   "id": "4629d142-abe1-4345-a526-f71ddfcd413f",
   "metadata": {},
   "outputs": [
    {
     "name": "stdout",
     "output_type": "stream",
     "text": [
      "[0.00019413 0.02494471 0.02571831 0.12652735]\n"
     ]
    }
   ],
   "source": [
    "print(model.coef_)"
   ]
  },
  {
   "cell_type": "code",
   "execution_count": 35,
   "id": "5e473ab0-7ac2-42d4-9d47-b00aa52aef76",
   "metadata": {},
   "outputs": [
    {
     "data": {
      "text/plain": [
       "[('Serial No.', 0.00019413202557604184),\n",
       " ('GRE Score', 0.024944714224865584),\n",
       " ('TOEFL Score', 0.02571830794187168),\n",
       " ('University Rating', 0.1265273516734855)]"
      ]
     },
     "execution_count": 35,
     "metadata": {},
     "output_type": "execute_result"
    }
   ],
   "source": [
    "list(zip(df,model.coef_))"
   ]
  },
  {
   "cell_type": "markdown",
   "id": "d415cbe6-82a0-44c0-9b8b-7c3cee595273",
   "metadata": {},
   "source": [
    "# Performing Ridge And Lasso Regression"
   ]
  },
  {
   "cell_type": "code",
   "execution_count": 36,
   "id": "139a2ae4-8bff-40b7-80a6-5b1a934035ba",
   "metadata": {},
   "outputs": [],
   "source": [
    "from sklearn.linear_model import Ridge\n",
    "from sklearn.linear_model import Lasso"
   ]
  },
  {
   "cell_type": "code",
   "execution_count": 37,
   "id": "28dbf3b1-3f63-4a99-ac5b-028df02a0849",
   "metadata": {},
   "outputs": [
    {
     "data": {
      "text/plain": [
       "Ridge(alpha=0.1)"
      ]
     },
     "execution_count": 37,
     "metadata": {},
     "output_type": "execute_result"
    }
   ],
   "source": [
    "# Ridge\n",
    "\n",
    "r= Ridge(alpha=0.1)\n",
    "r.fit(X_train,y_train)"
   ]
  },
  {
   "cell_type": "code",
   "execution_count": 38,
   "id": "ad034fcd-b2a1-497a-9b6c-c420d6390b8f",
   "metadata": {},
   "outputs": [],
   "source": [
    "y_predict= r.predict(X_test)"
   ]
  },
  {
   "cell_type": "code",
   "execution_count": 39,
   "id": "e3da7c47-6069-4efc-b3e8-4bdea8b1b88e",
   "metadata": {},
   "outputs": [
    {
     "data": {
      "text/plain": [
       "Lasso(alpha=0.01)"
      ]
     },
     "execution_count": 39,
     "metadata": {},
     "output_type": "execute_result"
    }
   ],
   "source": [
    "# Lasso \n",
    "\n",
    "l= Lasso(alpha=0.01)\n",
    "l.fit(X_train,y_train)"
   ]
  },
  {
   "cell_type": "code",
   "execution_count": 40,
   "id": "d960deee-4185-4218-afd8-f414b9a481bc",
   "metadata": {},
   "outputs": [],
   "source": [
    "y_p=l.predict(X_test)"
   ]
  },
  {
   "cell_type": "markdown",
   "id": "fc14dd27-2ead-4713-a8c5-743178b4dbc3",
   "metadata": {},
   "source": [
    "# Testing the assumptions of the linear regression model "
   ]
  },
  {
   "cell_type": "code",
   "execution_count": 41,
   "id": "e594949e-377e-44bb-9a7d-e584a795b0ed",
   "metadata": {},
   "outputs": [],
   "source": [
    "y_train = np.array(y_train)"
   ]
  },
  {
   "cell_type": "code",
   "execution_count": 42,
   "id": "e2efc51a-4875-4975-b485-ba612ccc4a2b",
   "metadata": {},
   "outputs": [
    {
     "name": "stdout",
     "output_type": "stream",
     "text": [
      "                            OLS Regression Results                            \n",
      "==============================================================================\n",
      "Dep. Variable:                      y   R-squared:                       0.760\n",
      "Model:                            OLS   Adj. R-squared:                  0.757\n",
      "Method:                 Least Squares   F-statistic:                     273.4\n",
      "Date:                Sun, 17 Sep 2023   Prob (F-statistic):          1.40e-105\n",
      "Time:                        11:37:16   Log-Likelihood:                -71.598\n",
      "No. Observations:                 350   AIC:                             153.2\n",
      "Df Residuals:                     345   BIC:                             172.5\n",
      "Df Model:                           4                                         \n",
      "Covariance Type:            nonrobust                                         \n",
      "==============================================================================\n",
      "                 coef    std err          t      P>|t|      [0.025      0.975]\n",
      "------------------------------------------------------------------------------\n",
      "const         -2.5128      0.569     -4.417      0.000      -3.632      -1.394\n",
      "x1             0.0002      0.000      1.771      0.078   -2.15e-05       0.000\n",
      "x2             0.0249      0.003      9.091      0.000       0.020       0.030\n",
      "x3             0.0257      0.005      5.193      0.000       0.016       0.035\n",
      "x4             0.1265      0.019      6.717      0.000       0.089       0.164\n",
      "==============================================================================\n",
      "Omnibus:                       23.454   Durbin-Watson:                   1.900\n",
      "Prob(Omnibus):                  0.000   Jarque-Bera (JB):               32.387\n",
      "Skew:                          -0.504   Prob(JB):                     9.27e-08\n",
      "Kurtosis:                       4.097   Cond. No.                     1.53e+04\n",
      "==============================================================================\n",
      "\n",
      "Notes:\n",
      "[1] Standard Errors assume that the covariance matrix of the errors is correctly specified.\n",
      "[2] The condition number is large, 1.53e+04. This might indicate that there are\n",
      "strong multicollinearity or other numerical problems.\n"
     ]
    }
   ],
   "source": [
    "import statsmodels.api as sm\n",
    "X_sm = sm.add_constant(X_train)  # Statmodels default is without intercept, to add intercept we need to add constant.\n",
    "\n",
    "model = sm.OLS(y_train, X_sm)\n",
    "results = model.fit()\n",
    "\n",
    "# Print the summary statistics of the model\n",
    "print(results.summary())"
   ]
  },
  {
   "cell_type": "code",
   "execution_count": 43,
   "id": "e18efbce-bc73-476d-a981-9199287b0930",
   "metadata": {},
   "outputs": [
    {
     "data": {
      "text/plain": [
       "array([9.35469505, 8.37634589, 9.246484  , 8.05581601, 8.9469684 ,\n",
       "       8.39406893, 8.45336958, 8.23334056, 8.99773268, 9.28569617,\n",
       "       8.97482216, 8.28032388, 8.81257996, 8.40931835, 9.38106408,\n",
       "       8.21786096, 8.72881324, 9.08207342, 9.09255111, 8.94731494,\n",
       "       8.52943641, 8.96637324, 8.19416761, 9.57518903, 8.68692158,\n",
       "       9.2026156 , 8.12641217, 9.11445468, 8.08386371, 8.44016567,\n",
       "       8.05745838, 7.95138636, 8.12641804, 7.70503089, 9.51655192,\n",
       "       8.4306557 , 8.80646942, 7.71391924, 8.65805837, 9.19563272,\n",
       "       8.06420248, 8.20481532, 7.90495676, 9.57372549, 9.41033316,\n",
       "       9.37087633, 8.1900009 , 9.31040546, 8.89374962, 9.36194626,\n",
       "       9.64593466, 9.26770185, 9.45006839, 9.6317739 , 7.35484934,\n",
       "       7.72440574, 9.00733553, 8.9705567 , 8.04019507, 9.27181111,\n",
       "       7.73818868, 8.47487357, 9.69232678, 8.1882336 , 7.72052853,\n",
       "       8.99364753, 9.10504683, 8.99002149, 8.82626501, 8.87440389,\n",
       "       8.54121894, 8.41350919, 8.46276462, 8.4460183 , 8.61593466,\n",
       "       9.03654234, 7.80991127, 8.59876946, 9.31937682, 9.13157752,\n",
       "       8.00111501, 7.6547507 , 7.94653055, 8.7241507 , 8.30819968,\n",
       "       8.22289415, 9.53557686, 7.57658296, 8.80349497, 9.11856481,\n",
       "       8.84120774, 7.96060638, 8.37341292, 8.06022696, 7.69314711,\n",
       "       7.68509188, 8.0454964 , 8.04355778, 8.73484264, 8.67873261,\n",
       "       8.16091313, 8.50631709, 8.63194636, 8.48006692, 9.30478107,\n",
       "       8.37514231, 9.22542193, 8.53386647, 8.4762325 , 7.5825086 ,\n",
       "       8.39896396, 9.41435647, 9.59177977, 8.50655925, 8.26191132,\n",
       "       8.34942694, 8.85014325, 8.33811319, 9.58870701, 8.85480242,\n",
       "       9.08851313, 8.46520576, 8.33140308, 8.55680066, 8.34058344,\n",
       "       8.59536797, 9.05198883, 7.69102297, 8.3842877 , 8.11000927,\n",
       "       8.8548953 , 8.02509536, 8.32078785, 8.57256457, 8.63418307,\n",
       "       8.25336407, 7.49294998, 8.74997907, 7.9896283 , 7.76285225,\n",
       "       8.62146573, 8.61639712, 9.54761598, 8.69664935, 8.56275629,\n",
       "       9.26382508, 8.84622182, 8.99603665, 8.3664093 , 8.33334397,\n",
       "       8.37110433, 7.75876961, 9.05819268, 8.33796728, 9.5284923 ,\n",
       "       8.33241503, 9.30342508, 8.47948746, 7.5573186 , 8.70242216,\n",
       "       7.96404166, 9.04541246, 8.9931817 , 8.36216588, 9.02489986,\n",
       "       8.1670128 , 8.33086554, 8.55382371, 9.37848627, 8.4977275 ,\n",
       "       8.17407033, 8.26333314, 8.41652328, 9.04062748, 7.68189876,\n",
       "       8.56929725, 8.18366731, 8.46743997, 8.13562632, 8.38300591,\n",
       "       8.65711813, 8.13038769, 8.30080355, 9.22804733, 8.59508389,\n",
       "       8.34001572, 8.46230552, 7.87659437, 9.39573153, 8.45861071,\n",
       "       8.91018414, 9.15350857, 8.60148438, 8.21732298, 8.08814024,\n",
       "       7.9462794 , 9.08348644, 8.03188705, 8.89592549, 8.49448635,\n",
       "       8.67048912, 8.05222332, 8.36524701, 8.74063324, 8.72778849,\n",
       "       9.28663391, 7.77208845, 8.56551899, 8.7839438 , 9.02263817,\n",
       "       7.7122708 , 8.29366282, 9.46583231, 8.65569   , 9.28953458,\n",
       "       8.03614328, 9.17515304, 9.37689149, 7.69717273, 8.12807235,\n",
       "       8.57082912, 9.31849948, 7.67087496, 8.99044267, 8.93819074,\n",
       "       8.38706844, 8.330402  , 8.2464619 , 9.50889083, 8.78161715,\n",
       "       9.16676114, 8.23278858, 8.46220677, 8.91914506, 8.11514958,\n",
       "       7.48501404, 9.55221269, 8.50335146, 9.01336492, 8.94812733,\n",
       "       8.81486738, 8.70348613, 9.28686096, 8.83645233, 9.41542545,\n",
       "       8.27706579, 8.89963605, 8.56378061, 9.03994927, 8.12013324,\n",
       "       7.83783043, 7.80612401, 8.15931923, 8.56131035, 8.8881489 ,\n",
       "       8.32014005, 8.74070157, 7.93209058, 8.4553109 , 8.42464097,\n",
       "       8.95369176, 8.48713975, 8.53411426, 8.71260447, 9.08426971,\n",
       "       8.27005063, 7.93890531, 8.56419929, 8.26297779, 9.27539142,\n",
       "       9.02258158, 8.15159611, 8.71862506, 7.97316837, 8.36698877,\n",
       "       8.84954955, 8.64769116, 9.15240374, 9.19452452, 7.92493094,\n",
       "       8.89420872, 8.82768683, 8.57375098, 8.01739168, 8.88931076,\n",
       "       9.35674642, 8.46042711, 8.38488227, 9.01331733, 9.50766608,\n",
       "       8.09657223, 9.12143213, 9.43467537, 8.73871397, 7.99403337,\n",
       "       7.36989332, 8.1841803 , 7.99661662, 8.5419984 , 9.01471254,\n",
       "       8.61924327, 8.40551142, 7.97398998, 9.2950032 , 9.02034487,\n",
       "       7.99145893, 9.53956999, 9.49384685, 8.02237164, 8.86557256,\n",
       "       8.52196064, 9.0756675 , 8.45221903, 9.22874716, 8.52714331,\n",
       "       8.79811837, 9.14641313, 7.88553031, 8.2332781 , 9.4864669 ,\n",
       "       7.8329113 , 8.71368181, 8.79887665, 8.38750137, 9.2860878 ,\n",
       "       8.46895924, 9.50190164, 8.96061467, 8.37602009, 9.59420473,\n",
       "       7.76158077, 8.35509556, 9.46185972, 8.59072304, 8.98811852,\n",
       "       8.97480098, 8.02505864, 8.88258241, 8.07721856, 8.09302983,\n",
       "       9.72668815, 8.95942034, 8.37412386, 8.17074597, 7.85931619,\n",
       "       8.10875159, 8.40417573, 8.77734331, 9.03728552, 9.57926831])"
      ]
     },
     "execution_count": 43,
     "metadata": {},
     "output_type": "execute_result"
    }
   ],
   "source": [
    "results.predict(X_sm)"
   ]
  },
  {
   "cell_type": "code",
   "execution_count": 44,
   "id": "b031d88b-06a9-4a8e-bc11-b5031714af14",
   "metadata": {},
   "outputs": [
    {
     "name": "stdout",
     "output_type": "stream",
     "text": [
      "                            OLS Regression Results                            \n",
      "==============================================================================\n",
      "Dep. Variable:              GRE Score   R-squared:                       1.000\n",
      "Model:                            OLS   Adj. R-squared:                  1.000\n",
      "Method:                 Least Squares   F-statistic:                 2.748e+31\n",
      "Date:                Sun, 17 Sep 2023   Prob (F-statistic):               0.00\n",
      "Time:                        11:37:16   Log-Likelihood:                 13169.\n",
      "No. Observations:                 400   AIC:                        -2.632e+04\n",
      "Df Residuals:                     390   BIC:                        -2.628e+04\n",
      "Df Model:                           9                                         \n",
      "Covariance Type:            nonrobust                                         \n",
      "==============================================================================\n",
      "                 coef    std err          t      P>|t|      [0.025      0.975]\n",
      "------------------------------------------------------------------------------\n",
      "const         -0.0028   6.17e-17  -4.59e+13      0.000      -0.003      -0.003\n",
      "x1         -4.996e-16   6.46e-17     -7.731      0.000   -6.27e-16   -3.73e-16\n",
      "x2          1.023e-16   1.27e-16      0.808      0.420   -1.47e-16    3.51e-16\n",
      "x3         -3.951e-16   9.97e-17     -3.964      0.000   -5.91e-16   -1.99e-16\n",
      "x4          4.528e-16   1.03e-16      4.402      0.000    2.51e-16    6.55e-16\n",
      "x5          1.266e-16   8.88e-17      1.427      0.154   -4.79e-17    3.01e-16\n",
      "x6          6.939e-17   1.53e-16      0.453      0.651   -2.32e-16     3.7e-16\n",
      "x7          4.857e-17   7.59e-17      0.640      0.523   -1.01e-16    1.98e-16\n",
      "x8          1.804e-16   1.53e-16      1.180      0.239    -1.2e-16    4.81e-16\n",
      "x9             0.9707    1.3e-16   7.47e+15      0.000       0.971       0.971\n",
      "==============================================================================\n",
      "Omnibus:                        5.581   Durbin-Watson:                   1.946\n",
      "Prob(Omnibus):                  0.061   Jarque-Bera (JB):                4.686\n",
      "Skew:                           0.179   Prob(JB):                       0.0960\n",
      "Kurtosis:                       2.610   Cond. No.                         7.09\n",
      "==============================================================================\n",
      "\n",
      "Notes:\n",
      "[1] Standard Errors assume that the covariance matrix of the errors is correctly specified.\n"
     ]
    }
   ],
   "source": [
    "import statsmodels.api as sm\n",
    "from sklearn.preprocessing import StandardScaler\n",
    "from sklearn.model_selection import train_test_split\n",
    "\n",
    "X = df[df.columns.drop('GRE Score')]\n",
    "y = df[\"GRE Score\"]\n",
    "\n",
    "X_train, X_test, y_train, y_test = train_test_split(X, y, test_size=0.2, random_state=2)\n",
    "\n",
    "scaler = StandardScaler()\n",
    "X_tr_scaled = scaler.fit_transform(X_train)\n",
    "\n",
    "X_sm = sm.add_constant(X_tr_scaled)  #Statmodels default is without intercept, to add intercept we need to add constant\n",
    "\n",
    "sm_model = sm.OLS(y_train, X_sm).fit()\n",
    "\n",
    "print(sm_model.summary())"
   ]
  },
  {
   "cell_type": "markdown",
   "id": "edc7a07f-af98-4f24-bb00-cf307b3c5e88",
   "metadata": {},
   "source": [
    "# Multicollinearity and implementation"
   ]
  },
  {
   "cell_type": "code",
   "execution_count": 45,
   "id": "c87cd1dc-9040-41e2-8b53-ceb2c7c3735b",
   "metadata": {},
   "outputs": [],
   "source": [
    "from statsmodels.stats.outliers_influence import variance_inflation_factor"
   ]
  },
  {
   "cell_type": "code",
   "execution_count": 46,
   "id": "0fc41c07-6fe0-4ff9-a7ca-7728ce82ab07",
   "metadata": {},
   "outputs": [
    {
     "data": {
      "text/html": [
       "<div>\n",
       "<style scoped>\n",
       "    .dataframe tbody tr th:only-of-type {\n",
       "        vertical-align: middle;\n",
       "    }\n",
       "\n",
       "    .dataframe tbody tr th {\n",
       "        vertical-align: top;\n",
       "    }\n",
       "\n",
       "    .dataframe thead th {\n",
       "        text-align: right;\n",
       "    }\n",
       "</style>\n",
       "<table border=\"1\" class=\"dataframe\">\n",
       "  <thead>\n",
       "    <tr style=\"text-align: right;\">\n",
       "      <th></th>\n",
       "      <th>Features</th>\n",
       "      <th>VIF</th>\n",
       "    </tr>\n",
       "  </thead>\n",
       "  <tbody>\n",
       "    <tr>\n",
       "      <th>5</th>\n",
       "      <td>CGPA</td>\n",
       "      <td>6.15</td>\n",
       "    </tr>\n",
       "    <tr>\n",
       "      <th>7</th>\n",
       "      <td>Chance of Admit</td>\n",
       "      <td>6.14</td>\n",
       "    </tr>\n",
       "    <tr>\n",
       "      <th>8</th>\n",
       "      <td>Chance of Admit</td>\n",
       "      <td>4.43</td>\n",
       "    </tr>\n",
       "    <tr>\n",
       "      <th>1</th>\n",
       "      <td>TOEFL Score</td>\n",
       "      <td>4.21</td>\n",
       "    </tr>\n",
       "    <tr>\n",
       "      <th>3</th>\n",
       "      <td>SOP</td>\n",
       "      <td>2.78</td>\n",
       "    </tr>\n",
       "    <tr>\n",
       "      <th>2</th>\n",
       "      <td>University Rating</td>\n",
       "      <td>2.61</td>\n",
       "    </tr>\n",
       "    <tr>\n",
       "      <th>4</th>\n",
       "      <td>LOR</td>\n",
       "      <td>2.07</td>\n",
       "    </tr>\n",
       "    <tr>\n",
       "      <th>6</th>\n",
       "      <td>Research</td>\n",
       "      <td>1.51</td>\n",
       "    </tr>\n",
       "    <tr>\n",
       "      <th>0</th>\n",
       "      <td>Serial No.</td>\n",
       "      <td>1.10</td>\n",
       "    </tr>\n",
       "  </tbody>\n",
       "</table>\n",
       "</div>"
      ],
      "text/plain": [
       "            Features   VIF\n",
       "5               CGPA  6.15\n",
       "7   Chance of Admit   6.14\n",
       "8    Chance of Admit  4.43\n",
       "1        TOEFL Score  4.21\n",
       "3                SOP  2.78\n",
       "2  University Rating  2.61\n",
       "4               LOR   2.07\n",
       "6           Research  1.51\n",
       "0         Serial No.  1.10"
      ]
     },
     "execution_count": 46,
     "metadata": {},
     "output_type": "execute_result"
    }
   ],
   "source": [
    "vif = pd.DataFrame()\n",
    "X_t = pd.DataFrame(X_tr_scaled, columns=X_train.columns)\n",
    "vif['Features'] = X_t.columns\n",
    "vif['VIF'] = [variance_inflation_factor(X_t.values, i) for i in range(X_t.shape[1])]\n",
    "vif['VIF'] = round(vif['VIF'], 2)\n",
    "vif = vif.sort_values(by = \"VIF\", ascending = False)\n",
    "vif"
   ]
  },
  {
   "cell_type": "code",
   "execution_count": 47,
   "id": "1d07489a-4b44-4965-bca2-7c0a38ee7961",
   "metadata": {},
   "outputs": [
    {
     "name": "stdout",
     "output_type": "stream",
     "text": [
      "                            OLS Regression Results                            \n",
      "==============================================================================\n",
      "Dep. Variable:                      y   R-squared:                       1.000\n",
      "Model:                            OLS   Adj. R-squared:                  1.000\n",
      "Method:                 Least Squares   F-statistic:                 6.326e+31\n",
      "Date:                Sun, 17 Sep 2023   Prob (F-statistic):               0.00\n",
      "Time:                        11:37:16   Log-Likelihood:                 13311.\n",
      "No. Observations:                 400   AIC:                        -2.660e+04\n",
      "Df Residuals:                     391   BIC:                        -2.657e+04\n",
      "Df Model:                           8                                         \n",
      "Covariance Type:            nonrobust                                         \n",
      "=====================================================================================\n",
      "                        coef    std err          t      P>|t|      [0.025      0.975]\n",
      "-------------------------------------------------------------------------------------\n",
      "const                -0.0028   4.32e-17  -6.57e+13      0.000      -0.003      -0.003\n",
      "Chance of Admit   -6.939e-16   9.43e-17     -7.361      0.000   -8.79e-16   -5.09e-16\n",
      "Chance of Admit       0.9707   8.86e-17    1.1e+16      0.000       0.971       0.971\n",
      "TOEFL Score       -1.457e-16   8.68e-17     -1.679      0.094   -3.16e-16    2.49e-17\n",
      "SOP                -1.24e-16   7.14e-17     -1.737      0.083   -2.64e-16    1.64e-17\n",
      "University Rating  3.166e-17   6.92e-17      0.457      0.648   -1.04e-16    1.68e-16\n",
      "LOR               -5.395e-16   6.18e-17     -8.730      0.000   -6.61e-16   -4.18e-16\n",
      "Research           2.984e-16   5.31e-17      5.624      0.000    1.94e-16    4.03e-16\n",
      "Serial No.          1.11e-16   4.51e-17      2.460      0.014    2.23e-17       2e-16\n",
      "==============================================================================\n",
      "Omnibus:                        0.162   Durbin-Watson:                   1.813\n",
      "Prob(Omnibus):                  0.922   Jarque-Bera (JB):                0.113\n",
      "Skew:                          -0.041   Prob(JB):                        0.945\n",
      "Kurtosis:                       3.010   Cond. No.                         5.47\n",
      "==============================================================================\n",
      "\n",
      "Notes:\n",
      "[1] Standard Errors assume that the covariance matrix of the errors is correctly specified.\n"
     ]
    }
   ],
   "source": [
    "cols2 = vif[\"Features\"][1:].values\n",
    "X2 = pd.DataFrame(X_tr_scaled, columns=X_train.columns)[cols2]\n",
    "\n",
    "X2_sm = sm.add_constant(X2)  #Statmodels default is without intercept, to add intercept we need to add constant\n",
    "sm_model = sm.OLS(list(y_train), X2_sm).fit()\n",
    "print(sm_model.summary())"
   ]
  },
  {
   "cell_type": "code",
   "execution_count": 48,
   "id": "6336993e-e066-4a62-bfc9-2096b3344449",
   "metadata": {},
   "outputs": [
    {
     "name": "stdout",
     "output_type": "stream",
     "text": [
      "Reached threshold\n",
      "Highest vif: Features    Chance of Admit \n",
      "VIF                     4.77\n",
      "Name: 0, dtype: object\n",
      "Current adj.R2 1.0\n",
      "Features removed: 1\n",
      "List of features removed: ['year']\n"
     ]
    }
   ],
   "source": [
    "vif_thr = 5\n",
    "r2_thr = 0.85\n",
    "i = 1\n",
    "feats_removed = ['year']\n",
    "while True:\n",
    "  vif = pd.DataFrame()\n",
    "  X_t = pd.DataFrame(X_tr_scaled, columns=X_train.columns)[cols2]\n",
    "  vif['Features'] = cols2\n",
    "  vif['VIF'] = [variance_inflation_factor(X_t.values, i) for i in range(X_t.shape[1])]\n",
    "  vif['VIF'] = round(vif['VIF'], 2)\n",
    "  vif = vif.sort_values(by = \"VIF\", ascending = False)\n",
    "\n",
    "  cols2 = vif[\"Features\"][1:].values\n",
    "  X2 = pd.DataFrame(X_tr_scaled, columns=X_train.columns)[cols2]\n",
    "\n",
    "  X2_sm = sm.add_constant(X2)  #Statmodels default is without intercept, to add intercept we need to add constant\n",
    "  sm_model = sm.OLS(list(y_train), X2_sm).fit()\n",
    "  if (vif.iloc[0]['VIF'] < vif_thr) or (sm_model.rsquared_adj < r2_thr):\n",
    "    print('Reached threshold')\n",
    "    print('Highest vif:',vif.iloc[0])\n",
    "    print('Current adj.R2',sm_model.rsquared_adj)\n",
    "    print('Features removed:', i)\n",
    "    print('List of features removed:', feats_removed)\n",
    "    break\n",
    "  feats_removed.append(vif.iloc[0]['Features'])\n",
    "  i += 1"
   ]
  },
  {
   "cell_type": "code",
   "execution_count": 49,
   "id": "aa4b5d3e-4bf2-4f13-b002-9cf36c80f690",
   "metadata": {},
   "outputs": [
    {
     "name": "stdout",
     "output_type": "stream",
     "text": [
      "            Features   VIF\n",
      "0   Chance of Admit   4.77\n",
      "1    Chance of Admit  4.22\n",
      "2        TOEFL Score  4.04\n",
      "3                SOP  2.74\n",
      "4  University Rating  2.57\n",
      "5               LOR   2.05\n",
      "6           Research  1.51\n",
      "7         Serial No.  1.09\n",
      "                            OLS Regression Results                            \n",
      "==============================================================================\n",
      "Dep. Variable:                      y   R-squared:                       1.000\n",
      "Model:                            OLS   Adj. R-squared:                  1.000\n",
      "Method:                 Least Squares   F-statistic:                 8.771e+30\n",
      "Date:                Sun, 17 Sep 2023   Prob (F-statistic):               0.00\n",
      "Time:                        11:37:16   Log-Likelihood:                 12889.\n",
      "No. Observations:                 400   AIC:                        -2.576e+04\n",
      "Df Residuals:                     392   BIC:                        -2.573e+04\n",
      "Df Model:                           7                                         \n",
      "Covariance Type:            nonrobust                                         \n",
      "=====================================================================================\n",
      "                        coef    std err          t      P>|t|      [0.025      0.975]\n",
      "-------------------------------------------------------------------------------------\n",
      "const                -0.0028   1.24e-16  -2.29e+13      0.000      -0.003      -0.003\n",
      "Chance of Admit       0.9707   2.38e-16   4.08e+15      0.000       0.971       0.971\n",
      "TOEFL Score        2.776e-16   2.37e-16      1.170      0.243   -1.89e-16    7.44e-16\n",
      "SOP               -2.481e-16   2.03e-16     -1.219      0.224   -6.48e-16    1.52e-16\n",
      "University Rating -4.272e-16   1.97e-16     -2.165      0.031   -8.15e-16   -3.93e-17\n",
      "LOR                2.758e-16   1.71e-16      1.611      0.108   -6.07e-17    6.12e-16\n",
      "Research           3.539e-16    1.5e-16      2.359      0.019    5.89e-17    6.49e-16\n",
      "Serial No.         3.469e-17   1.26e-16      0.274      0.784   -2.14e-16    2.83e-16\n",
      "==============================================================================\n",
      "Omnibus:                       14.007   Durbin-Watson:                   1.972\n",
      "Prob(Omnibus):                  0.001   Jarque-Bera (JB):                6.766\n",
      "Skew:                          -0.010   Prob(JB):                       0.0340\n",
      "Kurtosis:                       2.363   Cond. No.                         4.90\n",
      "==============================================================================\n",
      "\n",
      "Notes:\n",
      "[1] Standard Errors assume that the covariance matrix of the errors is correctly specified.\n"
     ]
    }
   ],
   "source": [
    "print(vif)\n",
    "print(sm_model.summary())"
   ]
  },
  {
   "cell_type": "code",
   "execution_count": 50,
   "id": "a6444adb-a521-43ac-a860-d724047fd76e",
   "metadata": {},
   "outputs": [],
   "source": [
    "X_sm = sm.add_constant(X_tr_scaled)\n",
    "sm_model = sm.OLS(y_train, X_sm).fit()"
   ]
  },
  {
   "cell_type": "code",
   "execution_count": 51,
   "id": "231bd0eb-fb0a-4385-8a14-716d6699c2b4",
   "metadata": {},
   "outputs": [],
   "source": [
    "Y_hat = sm_model.predict(X_sm)\n",
    "errors = Y_hat - y_train"
   ]
  },
  {
   "cell_type": "code",
   "execution_count": 52,
   "id": "5edd14fe-69e5-49a0-a882-d843d8807330",
   "metadata": {},
   "outputs": [
    {
     "data": {
      "image/png": "[encoded data removed]",
      "text/plain": [
       "<Figure size 432x288 with 1 Axes>"
      ]
     },
     "metadata": {
      "needs_background": "light"
     },
     "output_type": "display_data"
    }
   ],
   "source": [
    "import seaborn as sns\n",
    "sns.histplot(errors)\n",
    "plt.xlabel(\" Residuals\")\n",
    "plt.title(\"Histogram of residuals\")\n",
    "plt.show()"
   ]
  },
  {
   "cell_type": "markdown",
   "id": "5f1baa62-2496-42a7-a2e0-21382369d358",
   "metadata": {},
   "source": [
    "# Test for Homoscedasticity"
   ]
  },
  {
   "cell_type": "markdown",
   "id": "21237b96-b3f2-465a-8cc4-e2e52cc8dc11",
   "metadata": {},
   "source": [
    "# Using Goldfeld Quandt Test to check homoskedacity"
   ]
  },
  {
   "cell_type": "code",
   "execution_count": 53,
   "id": "c888d089-9b16-47dc-b1a7-c9471969f5f9",
   "metadata": {},
   "outputs": [
    {
     "data": {
      "text/plain": [
       "[('F statistic', 28.823925493668924), ('p-value', 2.023597902596281e-87)]"
      ]
     },
     "execution_count": 53,
     "metadata": {},
     "output_type": "execute_result"
    }
   ],
   "source": [
    "from statsmodels.compat import lzip\n",
    "import statsmodels.stats.api as sms\n",
    "\n",
    "name = ['F statistic', 'p-value']\n",
    "test = sms.het_goldfeldquandt(y_train, X2_sm)\n",
    "lzip(name, test)"
   ]
  },
  {
   "cell_type": "markdown",
   "id": "30498941-e17d-423b-a90f-ef0337b2dc90",
   "metadata": {},
   "source": [
    "# Normality of residuals"
   ]
  },
  {
   "cell_type": "code",
   "execution_count": 54,
   "id": "39293131-8e7d-4be8-884a-6bc8daa8a48c",
   "metadata": {},
   "outputs": [],
   "source": [
    "Y_hat = sm_model.predict(X_sm)\n",
    "errors = Y_hat - y_train"
   ]
  },
  {
   "cell_type": "code",
   "execution_count": 55,
   "id": "9269423d-f54a-4102-9275-20c464379b9f",
   "metadata": {},
   "outputs": [
    {
     "data": {
      "text/plain": [
       "Text(0.5, 1.0, 'Predicted values vs Residuals')"
      ]
     },
     "execution_count": 55,
     "metadata": {},
     "output_type": "execute_result"
    },
    {
     "data": {
      "image/png": "[encoded data removed]",
      "text/plain": [
       "<Figure size 432x288 with 1 Axes>"
      ]
     },
     "metadata": {
      "needs_background": "light"
     },
     "output_type": "display_data"
    }
   ],
   "source": [
    "sns.scatterplot(x=Y_hat,y=errors)\n",
    "plt.xlabel(\"predicted Selling price\")\n",
    "plt.ylabel(\"Residuals\")\n",
    "plt.title(\"Predicted values vs Residuals\")"
   ]
  },
  {
   "cell_type": "markdown",
   "id": "0e6856c0-9e46-442f-be5e-6c74ab52a7d4",
   "metadata": {},
   "source": [
    "# Model performance evaluation "
   ]
  },
  {
   "cell_type": "code",
   "execution_count": 56,
   "id": "a7a829e2-c1aa-4dcb-81e4-1183dd3f0b6b",
   "metadata": {},
   "outputs": [],
   "source": [
    "from sklearn.model_selection import train_test_split\n",
    "X_train,X_test,y_train,y_test= train_test_split(X,y,\n",
    "                                               test_size=0.2,\n",
    "                                               random_state=2)"
   ]
  },
  {
   "cell_type": "code",
   "execution_count": 57,
   "id": "11d58592-f6d6-41de-8ba0-c8d8a612c52c",
   "metadata": {},
   "outputs": [
    {
     "data": {
      "text/plain": [
       "LinearRegression()"
      ]
     },
     "execution_count": 57,
     "metadata": {},
     "output_type": "execute_result"
    }
   ],
   "source": [
    "from sklearn.linear_model import LinearRegression\n",
    "model= LinearRegression()\n",
    "model.fit(X_train,y_train)"
   ]
  },
  {
   "cell_type": "code",
   "execution_count": 58,
   "id": "822e5a45-ac9c-424a-adeb-da5a51bdf5c6",
   "metadata": {},
   "outputs": [],
   "source": [
    "pred=model.predict(X_test)"
   ]
  },
  {
   "cell_type": "code",
   "execution_count": 59,
   "id": "60e73b6e-ea46-4275-82df-8e7425450176",
   "metadata": {},
   "outputs": [],
   "source": [
    "from sklearn.metrics import mean_squared_error\n",
    "from sklearn.metrics import mean_absolute_error\n",
    "from sklearn.metrics import r2_score"
   ]
  },
  {
   "cell_type": "code",
   "execution_count": 60,
   "id": "29eea9a4-ffb3-49c8-86e2-c70ffcfb5a2b",
   "metadata": {},
   "outputs": [
    {
     "data": {
      "text/plain": [
       "array([ 1.46474861, -0.48494097, -1.01667449,  2.08510438, -1.81427477,\n",
       "       -0.13045196,  0.66714832, -0.66218548, -1.10529675, -1.01667449,\n",
       "       -0.75080773, -1.45978576, -1.63703027, -1.193919  , -1.10529675,\n",
       "       -0.48494097, -1.90289703, -1.01667449,  0.93301508,  1.11025959,\n",
       "        1.11025959, -0.0418297 , -0.30769646, -2.34600829,  0.75577058,\n",
       "        1.55337086,  0.1354148 ,  0.1354148 , -1.10529675, -0.39631872,\n",
       "        0.48990382,  1.90785987, -1.63703027,  1.73061537, -0.39631872,\n",
       "       -0.0418297 ,  0.31265931, -0.48494097, -1.37116351, -0.75080773,\n",
       "        0.40128156,  1.73061537,  1.02163734,  2.08510438,  0.31265931,\n",
       "       -0.39631872,  1.37612635,  1.55337086,  1.37612635,  0.40128156,\n",
       "       -1.63703027, -1.45978576,  1.2875041 ,  0.22403706,  0.1354148 ,\n",
       "       -1.45978576,  1.90785987, -0.0418297 ,  1.81923762,  0.66714832,\n",
       "       -0.83942999, -0.0418297 , -0.39631872,  2.08510438, -0.39631872,\n",
       "       -0.66218548, -0.0418297 ,  0.93301508, -0.75080773,  0.31265931,\n",
       "       -0.0418297 , -1.37116351, -1.193919  ,  1.55337086,  0.66714832,\n",
       "        0.40128156,  1.02163734, -0.48494097, -1.90289703, -0.57356322,\n",
       "        0.04679255,  0.66714832, -0.21907421,  1.02163734,  1.64199311,\n",
       "       -0.83942999, -0.30769646,  0.93301508, -1.45978576,  0.04679255,\n",
       "       -0.0418297 ,  2.08510438,  0.66714832,  0.04679255, -0.39631872,\n",
       "       -0.83942999, -2.34600829,  0.57852607,  0.66714832, -0.13045196])"
      ]
     },
     "execution_count": 60,
     "metadata": {},
     "output_type": "execute_result"
    }
   ],
   "source": [
    "y_test.ravel()"
   ]
  },
  {
   "cell_type": "code",
   "execution_count": 61,
   "id": "138af270-aa1e-4ac7-996d-970abc320cc3",
   "metadata": {},
   "outputs": [
    {
     "name": "stdout",
     "output_type": "stream",
     "text": [
      "MAE 3.281402927157728e-16\n"
     ]
    }
   ],
   "source": [
    "print('MAE',mean_absolute_error(y_test,pred))"
   ]
  },
  {
   "cell_type": "code",
   "execution_count": 62,
   "id": "76c1e56e-decf-40c4-a07a-a7fc8fa1b89b",
   "metadata": {},
   "outputs": [
    {
     "name": "stdout",
     "output_type": "stream",
     "text": [
      "MSE 1.780450011213085e-31\n"
     ]
    }
   ],
   "source": [
    "print('MSE',mean_squared_error(y_test,pred))"
   ]
  },
  {
   "cell_type": "code",
   "execution_count": 63,
   "id": "2ba32069-673d-4cb4-9401-b1d612efe1e6",
   "metadata": {},
   "outputs": [
    {
     "name": "stdout",
     "output_type": "stream",
     "text": [
      "RMSE 4.2195379026773593e-16\n"
     ]
    }
   ],
   "source": [
    "print('RMSE',np.sqrt(mean_squared_error(y_test,pred)))"
   ]
  },
  {
   "cell_type": "code",
   "execution_count": 64,
   "id": "57626b2a-2d65-402d-a4dc-39803424f1ee",
   "metadata": {},
   "outputs": [
    {
     "name": "stdout",
     "output_type": "stream",
     "text": [
      "MSE 1.0\n"
     ]
    }
   ],
   "source": [
    "print('MSE', r2_score(y_test,pred))\n",
    "r2=r2_score(y_test,pred)"
   ]
  },
  {
   "cell_type": "code",
   "execution_count": 65,
   "id": "1c9e29f3-8f07-46b0-97a7-ca1fca2f9634",
   "metadata": {},
   "outputs": [
    {
     "data": {
      "text/plain": [
       "1.0"
      ]
     },
     "execution_count": 65,
     "metadata": {},
     "output_type": "execute_result"
    }
   ],
   "source": [
    "# Adjusted R2 Score\n",
    "\n",
    "1-((1-r2)*(40-1)/(40-1-1))\n"
   ]
  }
 ],
 "metadata": {
  "kernelspec": {
   "display_name": "Python 3 (ipykernel)",
   "language": "python",
   "name": "python3"
  },
  "language_info": {
   "codemirror_mode": {
    "name": "ipython",
    "version": 3
   },
   "file_extension": ".py",
   "mimetype": "text/x-python",
   "name": "python",
   "nbconvert_exporter": "python",
   "pygments_lexer": "ipython3",
   "version": "3.11.5"
  }
 },
 "nbformat": 4,
 "nbformat_minor": 5
}
